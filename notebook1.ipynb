{
 "cells": [
  {
   "cell_type": "code",
   "execution_count": 1,
   "metadata": {
    "extensions": {
     "jupyter_dashboards": {
      "version": 1,
      "views": {
       "grid_default": {
        "col": 0,
        "height": 17,
        "hidden": false,
        "row": 0,
        "width": 12
       },
       "report_default": {}
      }
     }
    }
   },
   "outputs": [
    {
     "data": {
      "text/html": [
       " <table style=\"width:100%\">\n",
       "  <tr>   \n",
       "    <th bgcolor=\"#ffffff\"><img src=\"images/WeST_Logo.png\" width=\"100%\" height=\"100%\"/></th>  \n",
       "    <th bgcolor=\"#ffffff\"><img src=\"images/wikiwho.png\" width=\"80%\" height=\"80%\"/></th>\n",
       "    <th bgcolor=\"#ffffff\"><img src=\"images/Gesis.png\" width=\"60%\" height=\"60%\"/></th>\n",
       "    <th bgcolor=\"#ffffff\"><img src=\"images/Uni.png\" width=\"100%\" height=\"100%\"/></th>\n",
       "    \n",
       "    \n",
       "  </tr>\n",
       "</table> "
      ],
      "text/plain": [
       "<IPython.core.display.HTML object>"
      ]
     },
     "metadata": {},
     "output_type": "display_data"
    }
   ],
   "source": [
    "%%html\n",
    " <table style=\"width:100%\">\n",
    "  <tr>   \n",
    "    <th bgcolor=\"#ffffff\"><img src=\"images/WeST_Logo.png\" width=\"100%\" height=\"100%\"/></th>  \n",
    "    <th bgcolor=\"#ffffff\"><img src=\"images/wikiwho.png\" width=\"80%\" height=\"80%\"/></th>\n",
    "    <th bgcolor=\"#ffffff\"><img src=\"images/Gesis.png\" width=\"60%\" height=\"60%\"/></th>\n",
    "    <th bgcolor=\"#ffffff\"><img src=\"images/Uni.png\" width=\"100%\" height=\"100%\"/></th>\n",
    "    \n",
    "    \n",
    "  </tr>\n",
    "</table> "
   ]
  },
  {
   "cell_type": "markdown",
   "metadata": {},
   "source": [
    "\n",
    "# Forschungspraktikum Computational Social Science\n",
    "This web service serves to measure the influence of a user in Wikipedia. Many foreign APIs were used. Further information can be found in the Github documentation. This project was a part of a research internship in the winter term 2017/18 at the University of Koblenz-Landau in cooperation with the GESIS - Leibniz Institute for the Social Sciences. If you have any questions please do not hesitate to contact us.\n",
    "\n",
    "Please insert a Username or Userid or use the preloaded datasets below!\n"
   ]
  },
  {
   "cell_type": "code",
   "execution_count": 1,
   "metadata": {},
   "outputs": [
    {
     "data": {
      "text/html": [
       "<div>\n",
       "<style scoped>\n",
       "    .dataframe tbody tr th:only-of-type {\n",
       "        vertical-align: middle;\n",
       "    }\n",
       "\n",
       "    .dataframe tbody tr th {\n",
       "        vertical-align: top;\n",
       "    }\n",
       "\n",
       "    .dataframe thead th {\n",
       "        text-align: right;\n",
       "    }\n",
       "</style>\n",
       "<table border=\"1\" class=\"dataframe\">\n",
       "  <thead>\n",
       "    <tr style=\"text-align: right;\">\n",
       "      <th></th>\n",
       "      <th>UserName</th>\n",
       "      <th>User ID</th>\n",
       "      <th>Edit Count</th>\n",
       "    </tr>\n",
       "  </thead>\n",
       "  <tbody>\n",
       "    <tr>\n",
       "      <th>0</th>\n",
       "      <td>PAKHIGHWAY</td>\n",
       "      <td>29042885</td>\n",
       "      <td>8642.0</td>\n",
       "    </tr>\n",
       "    <tr>\n",
       "      <th>1</th>\n",
       "      <td>LouScheffer</td>\n",
       "      <td>639456</td>\n",
       "      <td>7747.0</td>\n",
       "    </tr>\n",
       "    <tr>\n",
       "      <th>2</th>\n",
       "      <td>Catrope</td>\n",
       "      <td>4587601</td>\n",
       "      <td>359.0</td>\n",
       "    </tr>\n",
       "    <tr>\n",
       "      <th>3</th>\n",
       "      <td>Azkord</td>\n",
       "      <td>21706178</td>\n",
       "      <td>249.0</td>\n",
       "    </tr>\n",
       "    <tr>\n",
       "      <th>4</th>\n",
       "      <td>Marethyu316</td>\n",
       "      <td>5190076</td>\n",
       "      <td>223.0</td>\n",
       "    </tr>\n",
       "    <tr>\n",
       "      <th>5</th>\n",
       "      <td>FaFlo</td>\n",
       "      <td>15082923</td>\n",
       "      <td>133.0</td>\n",
       "    </tr>\n",
       "    <tr>\n",
       "      <th>6</th>\n",
       "      <td>kekmon</td>\n",
       "      <td>25450560</td>\n",
       "      <td>99.0</td>\n",
       "    </tr>\n",
       "    <tr>\n",
       "      <th>7</th>\n",
       "      <td>CPNicole</td>\n",
       "      <td>27839195</td>\n",
       "      <td>24.0</td>\n",
       "    </tr>\n",
       "  </tbody>\n",
       "</table>\n",
       "</div>"
      ],
      "text/plain": [
       "      UserName   User ID  Edit Count\n",
       "0   PAKHIGHWAY  29042885      8642.0\n",
       "1  LouScheffer    639456      7747.0\n",
       "2      Catrope   4587601       359.0\n",
       "3       Azkord  21706178       249.0\n",
       "4  Marethyu316   5190076       223.0\n",
       "5        FaFlo  15082923       133.0\n",
       "6       kekmon  25450560        99.0\n",
       "7     CPNicole  27839195        24.0"
      ]
     },
     "execution_count": 1,
     "metadata": {},
     "output_type": "execute_result"
    }
   ],
   "source": [
    "import os.path, time\n",
    "import pandas as pd\n",
    "import requests\n",
    "\n",
    "# Checks if there are records in the cache folder. With this info, the user can skip the loading time.\n",
    "\n",
    "df = pd.DataFrame()\n",
    "\n",
    "for root, directories, filenames in os.walk('cache/'):\n",
    "    for directory in directories:\n",
    "        print(os.path.join(root, directory)) \n",
    "    for filename in filenames: \n",
    "        file = os.path.join(filename)        \n",
    "        editD = 'cache/%s' % file\n",
    "        editDD = time.ctime(os.path.getmtime(editD))\n",
    "        \n",
    "        req = requests.get(\"https://en.wikipedia.org/w/api.php?action=query&list=users&ususers=%s&usprop=blockinfo|editcount|registration|gender&format=json\"%(file.split(\"_\",2)[1])).json()\n",
    "        editorInfo = req['query']['users'][0]\n",
    "        \n",
    "        df = df.append({'UserName':file.split(\"_\",2)[1], 'User ID':file.split(\"_\",2)[0], 'Edit Count':editorInfo['editcount']}, ignore_index=True)\n",
    "df = df.drop_duplicates().sort_values(by=['Edit Count'],ascending=False).reset_index()\n",
    "df = df[['UserName', 'User ID', 'Edit Count']]\n",
    "                  \n",
    "df"
   ]
  },
  {
   "cell_type": "code",
   "execution_count": 3,
   "metadata": {
    "extensions": {
     "jupyter_dashboards": {
      "version": 1,
      "views": {
       "grid_default": {
        "col": 0,
        "height": 8,
        "hidden": false,
        "row": 17,
        "width": 4
       },
       "report_default": {}
      }
     }
    }
   },
   "outputs": [
    {
     "data": {
      "application/vnd.jupyter.widget-view+json": {
       "model_id": "1c29ccbcbbbb47dd8f9ad72a9134417d",
       "version_major": 2,
       "version_minor": 0
      },
      "text/plain": [
       "A Jupyter Widget"
      ]
     },
     "metadata": {},
     "output_type": "display_data"
    },
    {
     "data": {
      "application/vnd.jupyter.widget-view+json": {
       "model_id": "d300ee5f0365402e8720c5864ec77d10",
       "version_major": 2,
       "version_minor": 0
      },
      "text/plain": [
       "A Jupyter Widget"
      ]
     },
     "metadata": {},
     "output_type": "display_data"
    },
    {
     "name": "stdout",
     "output_type": "stream",
     "text": [
      "Stored 'userid_input' (int)\n",
      "Stored 'username_input' (str)\n"
     ]
    }
   ],
   "source": [
    "from ipywidgets import widgets\n",
    "from IPython.display import display\n",
    "from metrics.api.getEditorInfo import getEditorInfo\n",
    "\n",
    "searchTerm = widgets.Text()\n",
    "button = widgets.Button(description=\"Search!\")\n",
    "display(searchTerm,button)\n",
    "   \n",
    "def on_button_clicked(b):\n",
    "    input_var = searchTerm.value\n",
    "    \n",
    "    #check if customer is existing, if not print message and end\n",
    "    if input_var.isnumeric() == True:\n",
    "        a = getEditorInfo(editor_id = input_var)\n",
    "        isid = True\n",
    "    else:    \n",
    "        a = getEditorInfo(editor_name = input_var)\n",
    "        isid = False\n",
    "    \n",
    "    if a == -1:\n",
    "        print(\"Sorry! Your requested User is not existing\")\n",
    "        return\n",
    "    \n",
    "    #if customer is existing store userid and username in global variables\n",
    "    else:   \n",
    "        global userid_input\n",
    "        global username_input\n",
    "        if isid:\n",
    "            userid_input   = input_var\n",
    "            username_input = a['name']\n",
    "            %store userid_input\n",
    "            %store username_input\n",
    "        else:\n",
    "            userid_input   = a['userid']\n",
    "            username_input = input_var\n",
    "            %store userid_input\n",
    "            %store username_input\n",
    "\n",
    "\n",
    "            \n",
    "button.on_click(on_button_clicked)"
   ]
  },
  {
   "cell_type": "code",
   "execution_count": 4,
   "metadata": {
    "extensions": {
     "jupyter_dashboards": {
      "version": 1,
      "views": {
       "grid_default": {
        "col": 4,
        "height": 4,
        "hidden": false,
        "row": 21,
        "width": 4
       },
       "report_default": {}
      }
     }
    }
   },
   "outputs": [
    {
     "data": {
      "text/html": [
       "<a href=notebook2.ipynb target=\"_blank\">Go to Workbook two</a>"
      ],
      "text/plain": [
       "<IPython.core.display.HTML object>"
      ]
     },
     "metadata": {},
     "output_type": "display_data"
    }
   ],
   "source": [
    "%%html\n",
    "<a href=notebook2.ipynb target=\"_blank\">Go to Workbook two</a>"
   ]
  }
 ],
 "metadata": {
  "extensions": {
   "jupyter_dashboards": {
    "activeView": "grid_default",
    "version": 1,
    "views": {
     "grid_default": {
      "cellMargin": 10,
      "defaultCellHeight": 20,
      "maxColumns": 12,
      "name": "grid",
      "type": "grid"
     },
     "report_default": {
      "name": "report",
      "type": "report"
     }
    }
   }
  },
  "kernelspec": {
   "display_name": "Python 3",
   "language": "python",
   "name": "python3"
  },
  "language_info": {
   "codemirror_mode": {
    "name": "ipython",
    "version": 3
   },
   "file_extension": ".py",
   "mimetype": "text/x-python",
   "name": "python",
   "nbconvert_exporter": "python",
   "pygments_lexer": "ipython3",
   "version": "3.6.3"
  }
 },
 "nbformat": 4,
 "nbformat_minor": 2
}

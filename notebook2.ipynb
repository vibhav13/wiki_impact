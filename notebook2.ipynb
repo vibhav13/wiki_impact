{
 "cells": [
  {
   "cell_type": "code",
   "execution_count": 1,
   "metadata": {},
   "outputs": [
    {
     "data": {
      "text/html": [
       "<a href=notebook1.ipynb target=\"_blank\">Start a new query!</a>"
      ],
      "text/plain": [
       "<IPython.core.display.HTML object>"
      ]
     },
     "metadata": {},
     "output_type": "display_data"
    }
   ],
   "source": [
    "%%html\n",
    "<a href=notebook1.ipynb target=\"_blank\">Start a new query!</a>"
   ]
  },
  {
   "cell_type": "code",
   "execution_count": 2,
   "metadata": {},
   "outputs": [
    {
     "ename": "ModuleNotFoundError",
     "evalue": "No module named 'plotly'",
     "output_type": "error",
     "traceback": [
      "\u001b[1;31m---------------------------------------------------------------------------\u001b[0m",
      "\u001b[1;31mModuleNotFoundError\u001b[0m                       Traceback (most recent call last)",
      "\u001b[1;32m<ipython-input-2-d8f50955f120>\u001b[0m in \u001b[0;36m<module>\u001b[1;34m()\u001b[0m\n\u001b[0;32m     25\u001b[0m \u001b[1;32mfrom\u001b[0m \u001b[0mbokeh\u001b[0m\u001b[1;33m.\u001b[0m\u001b[0mplotting\u001b[0m \u001b[1;32mimport\u001b[0m \u001b[1;33m*\u001b[0m\u001b[1;33m\u001b[0m\u001b[0m\n\u001b[0;32m     26\u001b[0m \u001b[1;33m\u001b[0m\u001b[0m\n\u001b[1;32m---> 27\u001b[1;33m \u001b[1;32mimport\u001b[0m \u001b[0mplotly\u001b[0m\u001b[1;33m\u001b[0m\u001b[0m\n\u001b[0m\u001b[0;32m     28\u001b[0m \u001b[1;32mimport\u001b[0m \u001b[0mplotly\u001b[0m\u001b[1;33m.\u001b[0m\u001b[0mplotly\u001b[0m \u001b[1;32mas\u001b[0m \u001b[0mpy\u001b[0m\u001b[1;33m\u001b[0m\u001b[0m\n\u001b[0;32m     29\u001b[0m \u001b[1;32mimport\u001b[0m \u001b[0mplotly\u001b[0m\u001b[1;33m.\u001b[0m\u001b[0mgraph_objs\u001b[0m \u001b[1;32mas\u001b[0m \u001b[0mgo\u001b[0m\u001b[1;33m\u001b[0m\u001b[0m\n",
      "\u001b[1;31mModuleNotFoundError\u001b[0m: No module named 'plotly'"
     ]
    }
   ],
   "source": [
    "import sys\n",
    "import tabulate\n",
    "import requests\n",
    "from datetime import date\n",
    "from random import randint\n",
    "import numpy as np\n",
    "from numpy  import array\n",
    "import pandas as pd\n",
    "import math\n",
    "\n",
    "from metrics.api.getEditorInfo import getEditorInfo\n",
    "from datetime import datetime\n",
    "\n",
    "from IPython.display import Markdown as md\n",
    "from IPython.display import display, HTML, clear_output\n",
    "from ipywidgets import *\n",
    "from ipywidgets import widgets, interact,Button, HBox, VBox\n",
    "\n",
    "from bokeh.io import show, output_notebook\n",
    "from bokeh.layouts import widgetbox\n",
    "from bokeh.models import ColumnDataSource\n",
    "from bokeh.models.widgets import DataTable, DateFormatter, TableColumn\n",
    "from bokeh.models.widgets import CheckboxGroup\n",
    "from bokeh.models.widgets import Panel, Tabs\n",
    "from bokeh.plotting import *\n",
    "\n",
    "import plotly\n",
    "import plotly.plotly as py\n",
    "import plotly.graph_objs as go\n",
    "from plotly.graph_objs import *\n",
    "\n",
    "plotly.tools.set_credentials_file(username='fkramer', api_key='LmCFXvemFzCfOyuLsP9u')\n",
    "plotly.tools.set_config_file(world_readable=True,sharing='public')\n",
    "\n",
    "%store -r userid_input\n",
    "%store -r username_input\n",
    "\n",
    "userid_input = int(userid_input)"
   ]
  },
  {
   "cell_type": "code",
   "execution_count": null,
   "metadata": {
    "extensions": {
     "jupyter_dashboards": {
      "version": 1,
      "views": {
       "grid_default": {
        "col": 4,
        "height": 4,
        "hidden": false,
        "row": 0,
        "width": 4
       },
       "report_default": {
        "hidden": false
       }
      }
     }
    }
   },
   "outputs": [],
   "source": [
    "md('# User-related information for the wikipedia user: %s and all contributed articles'%username_input)"
   ]
  },
  {
   "cell_type": "markdown",
   "metadata": {
    "extensions": {
     "jupyter_dashboards": {
      "version": 1,
      "views": {
       "grid_default": {
        "col": 8,
        "height": 4,
        "hidden": false,
        "row": 0,
        "width": 4
       },
       "report_default": {
        "hidden": false
       }
      }
     }
    }
   },
   "source": [
    "### Network Statistics"
   ]
  },
  {
   "cell_type": "code",
   "execution_count": null,
   "metadata": {
    "extensions": {
     "jupyter_dashboards": {
      "version": 1,
      "views": {
       "grid_default": {
        "col": 0,
        "height": 8,
        "hidden": false,
        "row": 4,
        "width": 4
       },
       "report_default": {
        "hidden": false
       }
      }
     }
    },
    "scrolled": true
   },
   "outputs": [],
   "source": [
    "result = getEditorInfo(editor_id=userid_input)\n",
    "regday = list(result.values())[3]\n",
    "\n",
    "def d(regday):\n",
    "    date_format = \"%Y-%m-%d\"\n",
    "    aa = regday[:10]\n",
    "\n",
    "    a = datetime.strptime(aa, date_format)\n",
    "    b = datetime.today()\n",
    "    b = datetime.strptime(str(b)[:10],date_format)\n",
    "    delta = b - a\n",
    "    return delta.days\n",
    "\n",
    "def ymd(regday):\n",
    "    regdayy = d(regday)\n",
    "    year = regdayy / 365.25\n",
    "    month = (regdayy - (int(year)*365.25))/30\n",
    "    #monthh = round(month, 1)\n",
    "    day = (regdayy-((regdayy - (int(year)*365.25)) + (regdayy - (int(month)*30))))*-1\n",
    "    \n",
    "    line = '%i y %i m %i d'% (int(year),int(month),day)\n",
    "    return line\n",
    "\n",
    "if ymd(regday) == '0 y 0 m 0 d':\n",
    "    editD = 0\n",
    "else:\n",
    "    editD = round(list(result.values())[2]/d(regday),4)\n",
    "\n",
    "\n",
    "table = [\n",
    "    ['Username: ',username_input],\n",
    "    ['Userid: ',userid_input],\n",
    "    ['Gender: ',list(result.values())[4]],\n",
    "    ['Registration Date: ',regday],\n",
    "    ['Days registered: ',ymd(regday)],\n",
    "    ['Editcount: ',list(result.values())[2]],\n",
    "    ['Edits per day: ',editD]\n",
    "       ]\n",
    "\n",
    "display(HTML(tabulate.tabulate(table, tablefmt='html')))\n",
    "\n",
    "username2 = username_input.replace(\" \", \"_\")\n",
    "print('Link to Userpage: https://en.wikipedia.org/wiki/User:%s' %(username2))"
   ]
  },
  {
   "cell_type": "markdown",
   "metadata": {},
   "source": [
    "### Articles Summary"
   ]
  },
  {
   "cell_type": "code",
   "execution_count": null,
   "metadata": {},
   "outputs": [],
   "source": [
    "md('#### Number of article pages user %s has created, deleted, redirected'%username_input)"
   ]
  },
  {
   "cell_type": "code",
   "execution_count": null,
   "metadata": {},
   "outputs": [],
   "source": [
    "pages = requests.get('https://xtools.wmflabs.org/api/user/pages_count/en.wikipedia/%s'% username2).json()\n",
    "\n",
    "try:\n",
    "    if (len(pages['counts'])!=0):\n",
    "        table = [\n",
    "            ['Pages created: ',pages['counts']['count']],\n",
    "            ['Pages deleted: ',pages['counts']['deleted']],\n",
    "            ['Page redirects: ',pages['counts']['redirects']]\n",
    "               ]\n",
    "\n",
    "        display(HTML(tabulate.tabulate(table, tablefmt='html')))\n",
    "    else:\n",
    "        table = [\n",
    "            ['Pages created: ',0],\n",
    "            ['Pages deleted: ',0],\n",
    "            ['Page redirects: ',0]\n",
    "               ]\n",
    "\n",
    "        display(HTML(tabulate.tabulate(table, tablefmt='html')))\n",
    "except TypeError:\n",
    "    print(\"No data available for User \"+str(username_input))\n",
    "    pass"
   ]
  },
  {
   "cell_type": "code",
   "execution_count": null,
   "metadata": {},
   "outputs": [],
   "source": [
    "md('#### Article pages created by user %s '%username_input)"
   ]
  },
  {
   "cell_type": "code",
   "execution_count": null,
   "metadata": {},
   "outputs": [],
   "source": [
    "page_statistic = requests.get('https://xtools.wmflabs.org/api/user/pages/en.wikipedia/%s' % username_input).json()\n",
    "\n",
    "df_page = pd.DataFrame()\n",
    "\n",
    "\n",
    "if (len(page_statistic['pages']) !=0):\n",
    "    for i in range (0,len(page_statistic['pages'])):\n",
    "        page_title = page_statistic['pages'][i]['page_title']\n",
    "        page_len = page_statistic['pages'][i]['page_len'] if page_statistic['pages'][i]['page_len'] is not None else \"No information available\"\n",
    "        creation = page_statistic['pages'][i]['human_time']\n",
    "        df_page = df_page.append({'Page Title':page_title, 'Page Length':page_len, 'Creation Date':creation}, ignore_index=True)\n",
    "    \n",
    "    source = ColumnDataSource(df_page)\n",
    "\n",
    "    columns = [\n",
    "            TableColumn(field=\"Page Title\", title='Talk Page Title'),\n",
    "            TableColumn(field=\"Page Length\", title=\"Page Length\"),\n",
    "            TableColumn(field=\"Creation Date\", title=\"Creation Date\"),\n",
    "         \n",
    "        ]\n",
    "    data_table = DataTable(source=source, columns=columns, width=900, height=400)\n",
    "\n",
    "    output_notebook()\n",
    "\n",
    "    show(widgetbox(data_table))\n",
    "    \n",
    "else:\n",
    "    print('No Article pages have been created by User '+str(username_input))\n",
    "\n",
    "#print(df_page)\n"
   ]
  },
  {
   "cell_type": "markdown",
   "metadata": {},
   "source": [
    "### Talkpages Summary"
   ]
  },
  {
   "cell_type": "code",
   "execution_count": null,
   "metadata": {},
   "outputs": [],
   "source": [
    "md('#### Number of talk pages user %s has created, deleted, redirected'%username_input)"
   ]
  },
  {
   "cell_type": "code",
   "execution_count": null,
   "metadata": {},
   "outputs": [],
   "source": [
    "talkpages = requests.get('https://xtools.wmflabs.org/api/user/pages_count/en.wikipedia/%s/1/onlyredirects' % username2).json()\n",
    "\n",
    "try:\n",
    "    if (len(talkpages['counts']) !=0):\n",
    "        table = [\n",
    "            ['Talkpages created: ',talkpages['counts']['count']],\n",
    "            ['Talkpages deleted: ',talkpages['counts']['deleted']],\n",
    "            ['Talkpages redirects: ',talkpages['counts']['redirects']]\n",
    "               ]\n",
    "\n",
    "        display(HTML(tabulate.tabulate(table, tablefmt='html')))\n",
    "    else:\n",
    "        table = [\n",
    "            ['Talkpages created: ',0],\n",
    "            ['Talkpages deleted: ',0],\n",
    "            ['Talkpages redirects: ',0]\n",
    "               ]\n",
    "\n",
    "        display(HTML(tabulate.tabulate(table, tablefmt='html')))\n",
    "except TypeError:\n",
    "    print(\"No data available for User \"+str(username_input))\n",
    "    pass"
   ]
  },
  {
   "cell_type": "code",
   "execution_count": null,
   "metadata": {},
   "outputs": [],
   "source": [
    "md('#### Talk pages created by %s '%username_input)"
   ]
  },
  {
   "cell_type": "code",
   "execution_count": null,
   "metadata": {},
   "outputs": [],
   "source": [
    "talkpage_statistic = requests.get('https://xtools.wmflabs.org/api/user/pages/en.wikipedia/%s/1/onlyredirects' % username_input).json()\n",
    "\n",
    "df_talk = pd.DataFrame()\n",
    "\n",
    "if ((len(talkpage_statistic['pages'])) != 0):\n",
    "    for i in range (0,len(talkpage_statistic['pages'])):\n",
    "        page_title = talkpage_statistic['pages'][i]['page_title']\n",
    "        page_len = talkpage_statistic['pages'][i]['page_len'] if talkpage_statistic['pages'][i]['page_len'] is not None else \"No information available\"\n",
    "        creation = talkpage_statistic['pages'][i]['human_time']\n",
    "        df_talk = df_talk.append({'Talk Page Title':page_title, 'Page Length': page_len, 'Creation Date':creation}, ignore_index=True)\n",
    "\n",
    "    source = ColumnDataSource(df_talk)\n",
    "\n",
    "    columns = [\n",
    "            TableColumn(field=\"Talk Page Title\", title='Talk Page Title'),\n",
    "            TableColumn(field=\"Page Length\", title=\"Page Length\"),\n",
    "            TableColumn(field=\"Creation Date\", title=\"Creation Date\"),\n",
    "\n",
    "        ]\n",
    "    data_table = DataTable(source=source, columns=columns, width=900, height=400)\n",
    "\n",
    "    output_notebook()\n",
    "\n",
    "    show(widgetbox(data_table))\n",
    "\n",
    "else:\n",
    "    print('No article pages have been created by User '+str(username_input))"
   ]
  },
  {
   "cell_type": "markdown",
   "metadata": {},
   "source": [
    "### User Activity - ungrouped"
   ]
  },
  {
   "cell_type": "code",
   "execution_count": null,
   "metadata": {},
   "outputs": [],
   "source": [
    "import os.path, time\n",
    "from metrics.getEditorActions import getEditorActions\n",
    "\n",
    "feditorActions = 'cache/%i_%s_editorActions.csv' % (userid_input, username_input)\n",
    "fwordsOwned = 'cache/%i_%s_wordsOwned.csv' % (userid_input, username_input)\n",
    "\n",
    "#Checks if there are records in the cache folder.\n",
    "\n",
    "if os.path.isfile(feditorActions)== True & os.path.isfile(fwordsOwned) == True:\n",
    "    \n",
    "    print('A dataset for user '+str(username_input)+' already exists in the cache. Do you want to use it?')\n",
    "    print('Otherwise you can start a new query.')\n",
    "    print(\"last modified: %s \\n\" % time.ctime(os.path.getmtime(feditorActions)))\n",
    "     \n",
    "    while True:\n",
    "        try:\n",
    "            raw_input = input\n",
    "            useVersion = raw_input(\"Tip in [y]es or [n]o: \")\n",
    "            %store useVersion\n",
    "            \n",
    "        # Asks if the user wants to load existing data set or wants to start a new query\n",
    "            \n",
    "            if useVersion == 'y' or useVersion == 'yes':              \n",
    "                editorActions_df = pd.read_csv('cache/%i_%s_editorActions.csv' % (userid_input, username_input))\n",
    "                editorActions_df = editorActions_df.drop(['Unnamed: 0'],axis=1)\n",
    "                wordsOwned_df = pd.read_csv('cache/%i_%s_wordsOwned.csv' % (userid_input, username_input))\n",
    "                wordsOwned_df = wordsOwned_df.drop(['Unnamed: 0'],axis=1)\n",
    "                print('Old dataset successfully loaded!')\n",
    "                break\n",
    "                    \n",
    "            elif useVersion =='n' or useVersion == 'no':\n",
    "                \n",
    "                print('You have started a new request. The active date set will be replaced. The process takes a few minutes!')              \n",
    "                \n",
    "                getEditorActions = getEditorActions(int(userid_input))\n",
    "                editorActions_df = getEditorActions[0]\n",
    "                wordsOwned_df = getEditorActions[1] \n",
    "                editorActions_df.to_csv(\"%s\" %feditorActions, sep=',', encoding='utf-8')\n",
    "                wordsOwned_df.to_csv(\"%s\" %fwordsOwned, sep=',', encoding='utf-8')  \n",
    "                break\n",
    "                    \n",
    "            else:\n",
    "                continue\n",
    "        \n",
    "        except:\n",
    "            break\n",
    "     \n",
    "else:\n",
    "    print('You have started a new request. There is no active date set. The process takes a few minutes!')\n",
    "    getEditorActions = getEditorActions(int(userid_input))\n",
    "    editorActions_df = getEditorActions[0]\n",
    "    wordsOwned_df = getEditorActions[1] \n",
    "    \n",
    "    editorActions_df.to_csv(\"%s\" %feditorActions, sep=',', encoding='utf-8')\n",
    "    wordsOwned_df.to_csv(\"%s\" %fwordsOwned, sep=',', encoding='utf-8')"
   ]
  },
  {
   "cell_type": "markdown",
   "metadata": {},
   "source": [
    "#### This table shows all activities of the author in all articles in which he is involved."
   ]
  },
  {
   "cell_type": "code",
   "execution_count": null,
   "metadata": {},
   "outputs": [],
   "source": [
    "df_actions1 = pd.DataFrame()\n",
    "df_actions2 = pd.DataFrame()\n",
    "\n",
    "df_new = editorActions_df.drop(['ym','article_name','talkpage_entries'],axis=1).groupby('pageid').sum().reset_index()\n",
    "df_new = df_new.drop(['pageid'],axis=1)\n",
    "df_new = df_new.dropna()\n",
    "\n",
    "test = df_new.columns.values.tolist()\n",
    "\n",
    "for column in df_new:\n",
    "\n",
    "    if (column == 'adds_survived_ratio' \n",
    "        or column == 'dels_survived_ratio' \n",
    "        or column == 'reins_survived_ratio' \n",
    "        ):\n",
    "        \n",
    "        df_column_not_null = df_new[df_new[\"total_\"+str(column.replace(\"_survived_ratio\",\"\"))]>0]\n",
    "        maxV = df_new[column].max()\n",
    "        maxV = round(maxV, 2)\n",
    "        minV = df_new[column].min()\n",
    "        minV = round(minV, 2)\n",
    "        meanV = df_new[column].mean()\n",
    "        meanV = round(meanV, 2)\n",
    "        \n",
    "    if (column == 'total_actions_survived_ratio' ):\n",
    "        df_column_not_null = df_new[df_new[str(column.replace(\"_survived_ratio\",\"\"))]>0]\n",
    "        maxV = df_new[column].max()\n",
    "        maxV = round(maxV, 2)\n",
    "        minV = df_new[column].min()\n",
    "        minV = round(minV, 2)\n",
    "        meanV = df_new[column].mean()\n",
    "        meanV = round(meanV, 2)\n",
    "        \n",
    "    else:\n",
    "        df_column_not_null = df_new[df_new[column]>0] \n",
    "        maxV = df_column_not_null[column].max()\n",
    "        maxV = round(maxV, 2)\n",
    "        minV = df_column_not_null[column].min()\n",
    "        minV = round(minV, 2)\n",
    "        meanV = df_column_not_null[column].mean()\n",
    "        meanV = round(meanV, 2)\n",
    "        \n",
    "    df_actions1 = df_actions1.append({'Max. Value':maxV, 'Min. Value':minV, 'Mean Value (per article)':meanV}, ignore_index=True)\n",
    "\n",
    "for i in range (0,len(test)):\n",
    "    name = test[i]\n",
    "    df_actions2 = df_actions2.append({'Name':name}, ignore_index=True)\n",
    "\n",
    "result = pd.concat([df_actions1, df_actions2], axis=1)    \n",
    "\n",
    "source = ColumnDataSource(result)\n",
    "\n",
    "columns = [\n",
    "        TableColumn(field=\"Name\", title=\"Name\"),\n",
    "        TableColumn(field=\"Min. Value\", title=\"Min. Value\"),\n",
    "        TableColumn(field=\"Max. Value\", title=\"Max. Value\"), \n",
    "        TableColumn(field=\"Mean Value (per article)\", title=\"Mean Value (per article)\"),     \n",
    "    ]\n",
    "data_table = DataTable(source=source, columns=columns, width=900, height=400)\n",
    "\n",
    "output_notebook()\n",
    "\n",
    "show(widgetbox(data_table))"
   ]
  },
  {
   "cell_type": "code",
   "execution_count": null,
   "metadata": {},
   "outputs": [],
   "source": [
    "editorActions_df2 = editorActions_df\n",
    "%store editorActions_df2\n",
    "editorActions_Graph = editorActions_df.groupby('ym').sum()\n",
    "editorActions_Graph = editorActions_Graph.reset_index(drop=False)"
   ]
  },
  {
   "cell_type": "markdown",
   "metadata": {},
   "source": [
    "### Top Articles by Activity - grouped by article_name"
   ]
  },
  {
   "cell_type": "markdown",
   "metadata": {},
   "source": [
    "This table shows all activities of the author grouped by article"
   ]
  },
  {
   "cell_type": "code",
   "execution_count": null,
   "metadata": {
    "scrolled": true
   },
   "outputs": [],
   "source": [
    "editorActions_df2['total_actions_stopword_count'].fillna(0, inplace=True)\n",
    "source = ColumnDataSource(editorActions_df2.groupby('article_name').sum())\n",
    "\n",
    "columns = [\n",
    "        TableColumn(field=\"article_name\", title=\"Article Name\"),\n",
    "        TableColumn(field=\"pageid\", title=\"Article ID\"),\n",
    "        TableColumn(field=\"total_adds\", title=\"total_adds\"),\n",
    "        TableColumn(field=\"adds_stopword_count\", title=\"adds_stopword_count\"),\n",
    "        TableColumn(field=\"adds_surv_48h\", title=\"adds_surv_48h\"),\n",
    "        TableColumn(field=\"adds_survived_ratio\", title=\"adds_survived_ratio\"),\n",
    "        TableColumn(field=\"total_dels\", title=\"total_dels\"),\n",
    "        TableColumn(field=\"dels_stopword_count\", title=\"dels_stopword_count\"),\n",
    "        TableColumn(field=\"dels_surv_48h\", title=\"dels_surv_48h\"),\n",
    "        TableColumn(field=\"dels_survived_ratio\", title=\"dels_survived_ratio\"),\n",
    "        TableColumn(field=\"total_reins\", title=\"total_reins\"),\n",
    "        TableColumn(field=\"reins_stopword_count\", title=\"reins_stopword_count\"),\n",
    "        TableColumn(field=\"reins_surv_48h\", title=\"reins_surv_48h\"),\n",
    "        TableColumn(field=\"reins_survived_ratio\", title=\"reins_survived_ratio\"),\n",
    "        TableColumn(field=\"total_actions\", title=\"total_actions\"),\n",
    "        TableColumn(field=\"total_actions_stopword_count\", title=\"total_actions_stopword_count\"),\n",
    "        TableColumn(field=\"total_actions_surv_48h\", title=\"total_actions_surv_48h\"),\n",
    "        TableColumn(field=\"total_actions_survived_ratio\", title=\"total_actions_survived_ratio\"),\n",
    "        TableColumn(field=\"pageviews\", title=\"pageviews\"),\n",
    "        TableColumn(field=\"talkpage_entries\", title=\"talkpage_entries\"),  \n",
    "    ]\n",
    "data_table = DataTable(source=source, columns=columns, width=1200, height=400)\n",
    "output_notebook()\n",
    "show(widgetbox(data_table))"
   ]
  },
  {
   "cell_type": "markdown",
   "metadata": {},
   "source": [
    "### Activity Overview"
   ]
  },
  {
   "cell_type": "code",
   "execution_count": null,
   "metadata": {
    "collapsed": true
   },
   "outputs": [],
   "source": [
    "df4 = editorActions_Graph\n",
    "df4['ym']= pd.to_datetime(df4['ym'])"
   ]
  },
  {
   "cell_type": "code",
   "execution_count": null,
   "metadata": {
    "collapsed": true
   },
   "outputs": [],
   "source": [
    "begin = list(df4['ym'])\n",
    "end = sorted(begin, reverse=True)"
   ]
  },
  {
   "cell_type": "code",
   "execution_count": null,
   "metadata": {},
   "outputs": [],
   "source": [
    "def actitivtyOverview(begin,end):\n",
    "    \n",
    "    df4 = editorActions_Graph\n",
    "    df4['ym']= pd.to_datetime(df4['ym'])\n",
    "    \n",
    "    df4 = df4[(df4.ym >= begin) &(df4.ym <= end)]\n",
    "\n",
    "    trace1 = go.Scatter(x = list(df4['ym']),y = list(df4.total_adds),\n",
    "        mode = 'lines+markers',name = 'Adds',\n",
    "        marker = dict(color = 'rgba(0, 128, 43, .8)'))\n",
    "\n",
    "    trace2 = go.Scatter(\n",
    "        x = list(df4['ym']),y = list(df4.total_dels),\n",
    "        mode = 'lines+markers',name = 'Dels',\n",
    "        marker = dict(color = 'rgba(255, 0, 0, .8)'))\n",
    "\n",
    "    trace3 = go.Scatter(\n",
    "        x = list(df4['ym']),y = list(df4.total_reins),\n",
    "        mode = 'lines+markers',name = 'Reins',\n",
    "        marker = dict(color = 'rgba(0, 51, 153, .8)'))\n",
    "\n",
    "    layout= go.Layout(hovermode= 'closest',\n",
    "        xaxis= dict(title= 'Month',ticklen= 5,zeroline= True,gridwidth= 2),\n",
    "        yaxis=dict(title= 'Actions',ticklen= 5,gridwidth= 2),\n",
    "        showlegend= True)\n",
    "\n",
    "    data = [trace1,trace2,trace3]\n",
    "\n",
    "    plotly.offline.init_notebook_mode(connected=True)\n",
    "    plotly.offline.iplot({\"data\": data,\"layout\": layout})\n",
    "    \n",
    "a = interact(actitivtyOverview,begin=begin,end=end)"
   ]
  },
  {
   "cell_type": "markdown",
   "metadata": {},
   "source": [
    "### Adds Survival Ratio"
   ]
  },
  {
   "cell_type": "code",
   "execution_count": null,
   "metadata": {},
   "outputs": [],
   "source": [
    "def addRatio(begin,end):\n",
    "    \n",
    "    df4 = editorActions_Graph\n",
    "    df4['ym']= pd.to_datetime(df4['ym'])\n",
    "    \n",
    "    df4 = df4[(df4.ym >= begin) &(df4.ym <= end)]\n",
    "\n",
    "\n",
    "    trace1 = go.Bar(\n",
    "        x=list(df4['ym']),y=list(df4.total_adds),\n",
    "        name='Total adds',\n",
    "        marker = dict(color = 'rgba(0, 128, 43, .8)'))\n",
    "\n",
    "    trace2 = go.Bar(\n",
    "        x=list(df4['ym']),y=list(df4.adds_surv_48h),\n",
    "        name='48h survived',\n",
    "        marker = dict(color = 'rgba(0, 230, 77, .8)'))\n",
    "\n",
    "    data = [trace1, trace2]\n",
    "\n",
    "    layout= go.Layout(hovermode= 'closest',\n",
    "        xaxis= dict(title= 'Month',ticklen= 5,zeroline= True,gridwidth= 2),\n",
    "        yaxis=dict(title= 'Actions',ticklen= 5,gridwidth= 2),\n",
    "        showlegend= True,barmode='group')\n",
    "\n",
    "    plotly.offline.init_notebook_mode(connected=True)\n",
    "    plotly.offline.iplot({\"data\": data,\"layout\": layout})\n",
    "\n",
    "b = interact(addRatio,begin=begin,end=end)"
   ]
  },
  {
   "cell_type": "markdown",
   "metadata": {},
   "source": [
    "### Deletes Survival Ratio"
   ]
  },
  {
   "cell_type": "code",
   "execution_count": null,
   "metadata": {},
   "outputs": [],
   "source": [
    "def delRatio(begin,end):\n",
    "    \n",
    "    df4 = editorActions_Graph\n",
    "    df4['ym']= pd.to_datetime(df4['ym'])\n",
    "    \n",
    "    df4 = df4[(df4.ym >= begin) &(df4.ym <= end)]\n",
    "\n",
    "    trace1 = go.Bar(\n",
    "        x=list(df4['ym']),y=list(df4.total_dels),\n",
    "        name='Total dels',\n",
    "        marker = dict(color = 'rgba(255, 0, 0, .8)'))\n",
    "\n",
    "    trace2 = go.Bar(\n",
    "        x=list(df4['ym']),y=list(df4.dels_surv_48h),\n",
    "        name='48h survived',\n",
    "        marker = dict(color = 'rgba(255, 102, 102, .8)'))\n",
    "\n",
    "    layout= go.Layout(hovermode= 'closest',\n",
    "        xaxis= dict(title= 'Month',ticklen= 5,zeroline= True,gridwidth= 2),\n",
    "        yaxis=dict(title= 'Actions',ticklen= 5,gridwidth= 2),\n",
    "        showlegend= True,barmode='group')\n",
    "\n",
    "    data = [trace1, trace2]\n",
    "\n",
    "    plotly.offline.init_notebook_mode(connected=True)\n",
    "    plotly.offline.iplot({\"data\": data,\"layout\": layout})\n",
    "\n",
    "c = interact(delRatio,begin=begin,end=end)"
   ]
  },
  {
   "cell_type": "markdown",
   "metadata": {},
   "source": [
    "### Reinserts Survival Ratio"
   ]
  },
  {
   "cell_type": "code",
   "execution_count": null,
   "metadata": {},
   "outputs": [],
   "source": [
    "def reinsRatio(begin,end):\n",
    "    \n",
    "    df4 = editorActions_Graph\n",
    "    df4['ym']= pd.to_datetime(df4['ym'])\n",
    "    \n",
    "    df4 = df4[(df4.ym >= begin) &(df4.ym <= end)]\n",
    "\n",
    "    trace1 = go.Bar(\n",
    "        x=list(df4['ym']),y=list(df4.total_reins),\n",
    "        name='Total reinserts',\n",
    "        marker = dict(color = 'rgba(0, 51, 153, .8)'))\n",
    "\n",
    "    trace2 = go.Bar(\n",
    "        x=list(df4['ym']),y=list(df4.reins_surv_48h),\n",
    "        name='48h survived',\n",
    "        marker = dict(color = 'rgba(0, 153, 255, .8)'))\n",
    "\n",
    "    data = [trace1, trace2]\n",
    "\n",
    "    layout= go.Layout(hovermode= 'closest',\n",
    "        xaxis= dict(title= 'Month',ticklen= 5,zeroline= True,gridwidth= 2),\n",
    "        yaxis=dict(title= 'Actions',ticklen= 5,gridwidth= 2),\n",
    "        showlegend= True,barmode='group')\n",
    "\n",
    "    plotly.offline.init_notebook_mode(connected=True)\n",
    "    plotly.offline.iplot({\"data\": data,\"layout\": layout})\n",
    "\n",
    "d = interact(reinsRatio,begin=begin,end=end)"
   ]
  },
  {
   "cell_type": "markdown",
   "metadata": {
    "collapsed": true,
    "extensions": {
     "jupyter_dashboards": {
      "version": 1,
      "views": {
       "grid_default": {
        "col": 4,
        "height": 4,
        "hidden": false,
        "row": 4,
        "width": 4
       },
       "report_default": {
        "hidden": false
       }
      }
     }
    }
   },
   "source": [
    "### Articles with most owned words [%]"
   ]
  },
  {
   "cell_type": "markdown",
   "metadata": {},
   "source": [
    "The subsequent Table shows only the last revision of the articles"
   ]
  },
  {
   "cell_type": "code",
   "execution_count": null,
   "metadata": {},
   "outputs": [],
   "source": [
    "%store wordsOwned_df\n",
    "\n",
    "pageview_groupby_page_df = editorActions_df2.groupby('pageid').agg({'pageviews': 'sum'}).reset_index()\n",
    "wordsOwned_pageviews_df = pd.merge(left=wordsOwned_df,right=pageview_groupby_page_df, how='left', left_on=['pageid'], right_on=['pageid'])#.drop(['title'], axis=1) \n",
    "\n",
    "source = ColumnDataSource(wordsOwned_pageviews_df)\n",
    "\n",
    "columns = [\n",
    "        TableColumn(field=\"article_name\", title=\"Article Name\"),\n",
    "        TableColumn(field=\"pageid\", title=\"Article ID\"),\n",
    "        TableColumn(field=\"words_owned\", title=\"Words owned\"),\n",
    "        TableColumn(field=\"words_owned_ratio\", title=\"Ratio (percent of words user owns in latest revision)\"),\n",
    "        TableColumn(field=\"pageviews\", title=\"pageviews\") ]\n",
    "data_table = DataTable(source=source, columns=columns, width=800, height=300)\n",
    "output_notebook()\n",
    "show(widgetbox(data_table))"
   ]
  },
  {
   "cell_type": "markdown",
   "metadata": {},
   "source": [
    "### Articles with most Actions per Edit and Time Spent Editing [%]"
   ]
  },
  {
   "cell_type": "code",
   "execution_count": null,
   "metadata": {},
   "outputs": [],
   "source": [
    "from metrics.getTopXArticles_Actions_Timespent import getTopXArticles_Actions_Timespent\n",
    "Actions_Timespent = 'cache/%i_%s_Actions_Timespent.csv' % (userid_input, username_input)\n",
    "\n",
    "if os.path.isfile(Actions_Timespent)== True:\n",
    "     \n",
    "    if useVersion == 'y' or useVersion == 'yes':              \n",
    "        Actions_Timespent_df = pd.read_csv(Actions_Timespent)\n",
    "        Actions_Timespent_df = Actions_Timespent_df.drop(['Unnamed: 0'],axis=1)\n",
    "        %store Actions_Timespent_df\n",
    "        print('Old dataset successfully loaded!')\n",
    "                    \n",
    "    elif useVersion =='n' or useVersion == 'no':\n",
    "        print('You have started a new request. The active date set will be replaced. The process takes a few minutes!')              \n",
    "        Actions_Timespent_df = getTopXArticles_Actions_Timespent(str(userid_input))\n",
    "        %store Actions_Timespent_df\n",
    "        Actions_Timespent_df.to_csv(\"%s\" %Actions_Timespent, sep=',', encoding='utf-8')\n",
    "    else:\n",
    "        print('can not be the case')\n",
    "    \n",
    "else:\n",
    "\n",
    "    print('You have started a new request. There is no active date set. The process takes a few minutes!')\n",
    "    Actions_Timespent_df = getTopXArticles_Actions_Timespent(str(userid_input))\n",
    "    %store Actions_Timespent_df\n",
    "    Actions_Timespent_df.to_csv(\"%s\" %Actions_Timespent, sep=',', encoding='utf-8')"
   ]
  },
  {
   "cell_type": "code",
   "execution_count": null,
   "metadata": {},
   "outputs": [],
   "source": [
    "source = ColumnDataSource(Actions_Timespent_df)\n",
    "\n",
    "columns = [\n",
    "        TableColumn(field=\"title\", title=\"Articlename\"),\n",
    "        TableColumn(field=\"ActionsperEditsWithinHour\", title=\"ActionsperEditsWithinHour\"),\n",
    "        TableColumn(field=\"ActionsperEditsAfterHour\", title=\"ActionsperEditsAfterHour\"),\n",
    "        TableColumn(field=\"ActionsperEditsExactlyinHour\", title=\"ActionsperEditsExactlyinHour\"),\n",
    "        TableColumn(field=\"SessionsWithinHour\", title=\"SessionsWithinHour\"),\n",
    "        TableColumn(field=\"SessionsAfterHour\", title=\"SessionsAfterHour\"),\n",
    "        TableColumn(field=\"SessionsExactlyinHour\", title=\"SessionsExactlyinHour\")]\n",
    "data_table = DataTable(source=source, columns=columns, width=800, height=300)\n",
    "output_notebook()\n",
    "show(widgetbox(data_table))"
   ]
  },
  {
   "cell_type": "code",
   "execution_count": null,
   "metadata": {},
   "outputs": [],
   "source": [
    "table = [\n",
    "    ['Avg. Actions per Edits Within Hour: ', Actions_Timespent_df.ActionsperEditsWithinHour.mean()],\n",
    "    ['Avg. Actions per Edits After one Hour: ',Actions_Timespent_df.ActionsperEditsAfterHour.mean()],\n",
    "    ['Avg. Actions per Edits Exactly in one Hour: ',Actions_Timespent_df.ActionsperEditsExactlyinHour.mean()],\n",
    "    ['Avg. Sessions Within one Hour: ',Actions_Timespent_df.SessionsWithinHour.mean()],\n",
    "    ['Avg. Sessions After one Hour: ',Actions_Timespent_df.SessionsAfterHour.mean()],\n",
    "    ['Avg. Sessions Exactly in one Hour: ',Actions_Timespent_df.SessionsExactlyinHour.mean()]\n",
    "       ]\n",
    "\n",
    "display(HTML(tabulate.tabulate(table, tablefmt='html')))"
   ]
  },
  {
   "cell_type": "markdown",
   "metadata": {},
   "source": [
    "### Articles with the highest Conflict Rate\n",
    "Conflict rate is compute as follows :\n",
    "\n",
    "For a given article: A and editor: X, if X added/deleted a token and another editor B del/add the same token after X and X add/del it after B again, it will be count as a conflict. \n",
    "\n",
    "For computing the conflict score, the following code is used\n",
    "\n",
    "t1 = difference between add/del1 by A and del/add2 by B in seconds <br>\n",
    "t2 = difference between add/del2 by B and del/add3 by A in seconds <br>\n",
    "$c_1=\\frac{\\lg3600}{\\lg(t_1 + 2.0)}$ <br>\n",
    "\n",
    "$c_2=\\frac{\\lg3600}{\\lg(t_2 + 2.0)}$<br>\n",
    "\n",
    "S = Sum of all c1 and c2 over a token <br>\n",
    "A = Actions of A in this token <br>\n",
    "\n",
    "$conflict score = \\frac{S}{A}$<br>\n",
    "\n",
    "this returns a value between 0 and 7.5, and the value diverges to 0, the longer the time between add / del, so changes for under 1 hour are weighted stronger.\n"
   ]
  },
  {
   "cell_type": "code",
   "execution_count": null,
   "metadata": {},
   "outputs": [],
   "source": [
    "from metrics.getTopXArticles_by_conflict_score import getTopXArticles_by_conflict_score\n",
    "TopConflictScore = 'cache/%i_%s_TopConflictScore.csv' % (userid_input, username_input)\n",
    "\n",
    "\n",
    "if os.path.isfile(TopConflictScore)== True:\n",
    "     \n",
    "    if useVersion == 'y' or useVersion == 'yes':              \n",
    "        TopConflictScore_df = pd.read_csv(TopConflictScore)\n",
    "        TopConflictScore_df = TopConflictScore_df.drop(['Unnamed: 0'],axis=1)\n",
    "        %store TopConflictScore_df\n",
    "        print('Old dataset successfully loaded!')\n",
    "                    \n",
    "    elif useVersion =='n' or useVersion == 'no':\n",
    "        print('You have started a new request. The active date set will be replaced. The process takes a few minutes!')              \n",
    "        TopConflictScore_df = getTopXArticles_by_conflict_score(userid_input)\n",
    "        %store TopConflictScore_df\n",
    "        TopConflictScore_df.to_csv(\"%s\" %TopConflictScore, sep=',', encoding='utf-8')\n",
    "    else:\n",
    "        print('can not be the case')\n",
    "    \n",
    "else:\n",
    "\n",
    "    print('You have started a new request. There is no active date set. The process takes a few minutes!')\n",
    "    TopConflictScore_df = getTopXArticles_by_conflict_score(userid_input)\n",
    "    %store TopConflictScore_df\n",
    "    TopConflictScore_df.to_csv(\"%s\" %TopConflictScore, sep=',', encoding='utf-8')"
   ]
  },
  {
   "cell_type": "code",
   "execution_count": null,
   "metadata": {},
   "outputs": [],
   "source": [
    "source = ColumnDataSource(TopConflictScore_df)\n",
    "\n",
    "columns = [\n",
    "        TableColumn(field=\"title\", title=\"Articlename\"),\n",
    "        TableColumn(field=\"conflict_score\", title=\"Conflict Score\")]\n",
    "data_table = DataTable(source=source, columns=columns, width=800, height=300)\n",
    "output_notebook()\n",
    "show(widgetbox(data_table))"
   ]
  },
  {
   "cell_type": "markdown",
   "metadata": {
    "collapsed": true,
    "extensions": {
     "jupyter_dashboards": {
      "version": 1,
      "views": {
       "grid_default": {
        "hidden": true
       },
       "report_default": {
        "hidden": false
       }
      }
     }
    }
   },
   "source": [
    "### Select an article and see further information\n",
    "Please choose an article and click on see statistics"
   ]
  },
  {
   "cell_type": "code",
   "execution_count": null,
   "metadata": {},
   "outputs": [],
   "source": [
    "from ipywidgets import widgets\n",
    "from IPython.display import display\n",
    "\n",
    "optionList = list(TopConflictScore_df.title)\n",
    "optionList = sorted(optionList)\n",
    "\n",
    "# collect user articles in a list and display it\n",
    "\n",
    "chooseArticle = widgets.Select(options=optionList,value=optionList[0],description='Articles: ',disabled=False)\n",
    "display(chooseArticle)\n",
    "\n",
    "df = TopConflictScore_df\n",
    "\n",
    "button = widgets.Button(description=\"Choose!\")\n",
    "display(button)\n",
    "\n",
    "def on_button_clicked(b):\n",
    "    global article_name\n",
    "    article_name = chooseArticle.value\n",
    "    article_name = article_name.replace(\" \", \"_\")\n",
    "    % store article_name\n",
    "\n",
    "    global article_id\n",
    "    article_id = df.loc[df['title'] == chooseArticle.value].pageid.iloc[0]\n",
    "    article_id = int(article_id)\n",
    "    % store article_id\n",
    "    \n",
    "button.on_click(on_button_clicked)"
   ]
  },
  {
   "cell_type": "code",
   "execution_count": null,
   "metadata": {
    "extensions": {
     "jupyter_dashboards": {
      "version": 1,
      "views": {
       "grid_default": {},
       "report_default": {
        "hidden": false
       }
      }
     }
    }
   },
   "outputs": [],
   "source": [
    "%%html\n",
    "<a href=notebook3.ipynb target=\"_blank\">Go to Workbook three</a>"
   ]
  }
 ],
 "metadata": {
  "extensions": {
   "jupyter_dashboards": {
    "activeView": "report_default",
    "version": 1,
    "views": {
     "grid_default": {
      "cellMargin": 10,
      "defaultCellHeight": 20,
      "maxColumns": 12,
      "name": "grid",
      "type": "grid"
     },
     "report_default": {
      "name": "report",
      "type": "report"
     }
    }
   }
  },
  "kernelspec": {
   "display_name": "Python 3",
   "language": "python",
   "name": "python3"
  },
  "language_info": {
   "codemirror_mode": {
    "name": "ipython",
    "version": 3
   },
   "file_extension": ".py",
   "mimetype": "text/x-python",
   "name": "python",
   "nbconvert_exporter": "python",
   "pygments_lexer": "ipython3",
   "version": "3.6.2"
  }
 },
 "nbformat": 4,
 "nbformat_minor": 2
}

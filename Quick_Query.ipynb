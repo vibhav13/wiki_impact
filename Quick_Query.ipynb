{
 "cells": [
  {
   "cell_type": "markdown",
   "metadata": {},
   "source": [
    "# Calculate EditorActions, wordsOwned and Conflict Score for list of authors"
   ]
  },
  {
   "cell_type": "code",
   "execution_count": null,
   "metadata": {
    "collapsed": true
   },
   "outputs": [],
   "source": [
    "test = {'Jack barw','Yudhacahyo','S21710491','Ceoil','Pnkdlds','Richard Arthur Norton (1958- )','Nirmal1991USA'}"
   ]
  },
  {
   "cell_type": "code",
   "execution_count": null,
   "metadata": {
    "collapsed": true
   },
   "outputs": [],
   "source": [
    "from metrics.api.getEditorInfo import getEditorInfo\n",
    "import os.path, time\n",
    "from metrics.getEditorActions import getEditorActions\n",
    "from metrics.getTopXArticles_by_conflict_score import getTopXArticles_by_conflict_score\n",
    "\n",
    "for username_input in test:\n",
    "    a = getEditorInfo(editor_name = username_input)\n",
    "    userid_input   = a['userid']\n",
    "    print(a['editcount'])\n",
    "    feditorActions = 'cache/%i_%s_editorActions.csv' % (userid_input, username_input)\n",
    "    fwordsOwned = 'cache/%i_%s_wordsOwned.csv' % (userid_input, username_input)\n",
    "    getEditorActions = getEditorActions(int(userid_input))\n",
    "    editorActions_df = getEditorActions[0]\n",
    "    wordsOwned_df = getEditorActions[1] \n",
    "    editorActions_df.to_csv(\"%s\" %feditorActions, sep=',')\n",
    "    wordsOwned_df.to_csv(\"%s\" %fwordsOwned, sep=',')\n",
    "    print('done')\n",
    "    TopConflictScore = 'cache/%i_%s_TopConflictScore.csv' % (userid_input, username_input)\n",
    "    TopConflictScore_df = getTopXArticles_by_conflict_score(editor_id=userid_input)\n",
    "    TopConflictScore_df.to_csv(\"%s\" %TopConflictScore, sep=',')\n"
   ]
  },
  {
   "cell_type": "markdown",
   "metadata": {},
   "source": [
    "# Query some metrics for one author"
   ]
  },
  {
   "cell_type": "markdown",
   "metadata": {},
   "source": [
    "### Get editor id and check edit count"
   ]
  },
  {
   "cell_type": "code",
   "execution_count": 1,
   "metadata": {
    "collapsed": true
   },
   "outputs": [],
   "source": [
    "from metrics.api.getEditorInfo import getEditorInfo\n",
    "username_input = 'LouScheffer'\n",
    "\n",
    "a = getEditorInfo(editor_name = username_input)\n",
    "userid_input   = a['userid']"
   ]
  },
  {
   "cell_type": "markdown",
   "metadata": {},
   "source": [
    "### Calculate EditorActions and wordsOwned"
   ]
  },
  {
   "cell_type": "code",
   "execution_count": null,
   "metadata": {
    "collapsed": true
   },
   "outputs": [],
   "source": [
    "import os.path, time\n",
    "from metrics.getEditorActions import getEditorActions\n",
    "from metrics.getTopXArticles_by_conflict_score import getTopXArticles_by_conflict_score\n",
    "\n",
    "feditorActions = 'cache/%i_%s_editorActions.csv' % (userid_input, username_input)\n",
    "fwordsOwned = 'cache/%i_%s_wordsOwned.csv' % (userid_input, username_input)\n",
    "getEditorActions = getEditorActions(int(userid_input))\n",
    "editorActions_df = getEditorActions[0]\n",
    "wordsOwned_df = getEditorActions[1] \n",
    "editorActions_df.to_csv(\"%s\" %feditorActions, sep=',')\n",
    "wordsOwned_df.to_csv(\"%s\" %fwordsOwned, sep=',')\n",
    "print('done')"
   ]
  },
  {
   "cell_type": "markdown",
   "metadata": {},
   "source": [
    "### Calculate ConflictScore"
   ]
  },
  {
   "cell_type": "code",
   "execution_count": null,
   "metadata": {
    "collapsed": true
   },
   "outputs": [],
   "source": [
    "import os.path, time\n",
    "from metrics.getTopXArticles_by_conflict_score import getTopXArticles_by_conflict_score\n",
    "\n",
    "TopConflictScore = 'cache/%i_%s_TopConflictScore.csv' % (userid_input, username_input)\n",
    "TopConflictScore_df = getTopXArticles_by_conflict_score(editor_id=userid_input)\n",
    "TopConflictScore_df.to_csv(\"%s\" %TopConflictScore, sep=',')\n",
    "print(TopConflictScore_df)\n"
   ]
  },
  {
   "cell_type": "markdown",
   "metadata": {},
   "source": [
    "### Time Spent Editing"
   ]
  },
  {
   "cell_type": "code",
   "execution_count": null,
   "metadata": {
    "collapsed": true
   },
   "outputs": [],
   "source": [
    "import os.path, time\n",
    "from metrics.getTopXArticles_Actions_Timespent import getTopXArticles_Actions_Timespent\n",
    "\n",
    "Actions_Timespent = 'cache/%i_%s_Actions_Timespent.csv' % (userid_input, username_input)\n",
    "Actions_Timespent_df = getTopXArticles_Actions_Timespent(str(userid_input))\n",
    "Actions_Timespent_df.to_csv(\"%s\" %Actions_Timespent, sep=',', encoding='utf-8')"
   ]
  },
  {
   "cell_type": "markdown",
   "metadata": {},
   "source": [
    "### MonthlyArticleWordsOwned"
   ]
  },
  {
   "cell_type": "code",
   "execution_count": 5,
   "metadata": {
    "collapsed": true
   },
   "outputs": [],
   "source": [
    "article_name = 'Manned_Space_Flight_Network'\n",
    "article_id = 18253359"
   ]
  },
  {
   "cell_type": "code",
   "execution_count": 6,
   "metadata": {},
   "outputs": [
    {
     "data": {
      "application/vnd.jupyter.widget-view+json": {
       "model_id": "afb364d2f7064654ac08d3df56ac0d32",
       "version_major": 2,
       "version_minor": 0
      },
      "text/plain": [
       "A Jupyter Widget"
      ]
     },
     "metadata": {},
     "output_type": "display_data"
    }
   ],
   "source": [
    "from metrics.getMonthlyArticleWordsOwned import getMonthlyArticleWordsOwned\n",
    "file = 'cache/%i_%s_MonthlyArticleWordsOwned_%s.csv' % (userid_input, username_input,article_name)\n",
    "MonthlyArticleWordsOwned = getMonthlyArticleWordsOwned(userid_input,article_id) \n",
    "MonthlyArticleWordsOwned.to_csv(\"%s\" %file, sep=',', encoding='utf-8')"
   ]
  },
  {
   "cell_type": "markdown",
   "metadata": {},
   "source": [
    "### Conflict Score by Month"
   ]
  },
  {
   "cell_type": "code",
   "execution_count": null,
   "metadata": {
    "collapsed": true
   },
   "outputs": [],
   "source": [
    "from metrics.conflictscore_Sort_by_Month import conflictScore_by_month\n",
    "\n",
    "file = 'cache/%i_%s_conflictScoreMonth_%s.csv' % (userid_input, username_input,article_name)   \n",
    "conflictScoreMonth_df= conflictScore_by_month(article, str(userid_input), revisions)\n",
    "conflictScoreMonth_df.to_csv(\"%s\" %file, sep=',', encoding='utf-8')"
   ]
  }
 ],
 "metadata": {
  "kernelspec": {
   "display_name": "Python 3",
   "language": "python",
   "name": "python3"
  },
  "language_info": {
   "codemirror_mode": {
    "name": "ipython",
    "version": 3
   },
   "file_extension": ".py",
   "mimetype": "text/x-python",
   "name": "python",
   "nbconvert_exporter": "python",
   "pygments_lexer": "ipython3",
   "version": "3.6.3"
  }
 },
 "nbformat": 4,
 "nbformat_minor": 2
}
